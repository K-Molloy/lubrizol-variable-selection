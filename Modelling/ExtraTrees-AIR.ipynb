{
 "cells": [
  {
   "cell_type": "code",
   "execution_count": 116,
   "metadata": {},
   "outputs": [],
   "source": [
    "import pandas as pd\n",
    "import numpy as np\n",
    "import matplotlib.pyplot as plt\n",
    "\n",
    "from sklearn import preprocessing\n",
    "from sklearn.model_selection import train_test_split, KFold, GridSearchCV\n",
    "\n",
    "from sklearn import linear_model\n",
    "from sklearn.ensemble import ExtraTreesRegressor, GradientBoostingRegressor\n",
    "\n",
    "from sklearn.feature_selection import SelectKBest, f_regression, mutual_info_regression\n",
    "\n",
    "from sklearn.metrics import mean_absolute_error, mean_squared_error, r2_score"
   ]
  },
  {
   "cell_type": "code",
   "execution_count": 117,
   "metadata": {},
   "outputs": [],
   "source": [
    "raw = pd.read_csv(\"../data/Data.csv\")"
   ]
  },
  {
   "cell_type": "code",
   "execution_count": 118,
   "metadata": {},
   "outputs": [
    {
     "data": {
      "text/html": [
       "<div>\n",
       "<style scoped>\n",
       "    .dataframe tbody tr th:only-of-type {\n",
       "        vertical-align: middle;\n",
       "    }\n",
       "\n",
       "    .dataframe tbody tr th {\n",
       "        vertical-align: top;\n",
       "    }\n",
       "\n",
       "    .dataframe thead th {\n",
       "        text-align: right;\n",
       "    }\n",
       "</style>\n",
       "<table border=\"1\" class=\"dataframe\">\n",
       "  <thead>\n",
       "    <tr style=\"text-align: right;\">\n",
       "      <th></th>\n",
       "      <th>Unnamed: 0</th>\n",
       "      <th>ingredient_1</th>\n",
       "      <th>ingredient_2</th>\n",
       "      <th>ingredient_3</th>\n",
       "      <th>ingredient_4</th>\n",
       "      <th>ingredient_5</th>\n",
       "      <th>ingredient_6</th>\n",
       "      <th>ingredient_7</th>\n",
       "      <th>ingredient_8</th>\n",
       "      <th>ingredient_9</th>\n",
       "      <th>...</th>\n",
       "      <th>Group13_58</th>\n",
       "      <th>Group13_59</th>\n",
       "      <th>Group13_60</th>\n",
       "      <th>Group13_61</th>\n",
       "      <th>Group13_62</th>\n",
       "      <th>Group13_63</th>\n",
       "      <th>Group13_64</th>\n",
       "      <th>Group13_65</th>\n",
       "      <th>LAB</th>\n",
       "      <th>Response</th>\n",
       "    </tr>\n",
       "  </thead>\n",
       "  <tbody>\n",
       "    <tr>\n",
       "      <th>0</th>\n",
       "      <td>1</td>\n",
       "      <td>0.0</td>\n",
       "      <td>0.0</td>\n",
       "      <td>0.009140</td>\n",
       "      <td>0.0</td>\n",
       "      <td>0.0</td>\n",
       "      <td>0.0</td>\n",
       "      <td>0.0</td>\n",
       "      <td>0.0</td>\n",
       "      <td>0.0</td>\n",
       "      <td>...</td>\n",
       "      <td>0.0</td>\n",
       "      <td>0.000000</td>\n",
       "      <td>0.0</td>\n",
       "      <td>177.331194</td>\n",
       "      <td>0.971717</td>\n",
       "      <td>0.430281</td>\n",
       "      <td>11.980651</td>\n",
       "      <td>0.0</td>\n",
       "      <td>A</td>\n",
       "      <td>60.062861</td>\n",
       "    </tr>\n",
       "    <tr>\n",
       "      <th>1</th>\n",
       "      <td>2</td>\n",
       "      <td>0.0</td>\n",
       "      <td>0.0</td>\n",
       "      <td>NaN</td>\n",
       "      <td>0.0</td>\n",
       "      <td>0.0</td>\n",
       "      <td>0.0</td>\n",
       "      <td>0.0</td>\n",
       "      <td>0.0</td>\n",
       "      <td>0.0</td>\n",
       "      <td>...</td>\n",
       "      <td>0.0</td>\n",
       "      <td>86.098721</td>\n",
       "      <td>0.0</td>\n",
       "      <td>184.539779</td>\n",
       "      <td>1.040365</td>\n",
       "      <td>0.477488</td>\n",
       "      <td>13.452968</td>\n",
       "      <td>0.0</td>\n",
       "      <td>B</td>\n",
       "      <td>19.350732</td>\n",
       "    </tr>\n",
       "    <tr>\n",
       "      <th>2</th>\n",
       "      <td>3</td>\n",
       "      <td>0.0</td>\n",
       "      <td>0.0</td>\n",
       "      <td>0.000000</td>\n",
       "      <td>0.0</td>\n",
       "      <td>0.0</td>\n",
       "      <td>0.0</td>\n",
       "      <td>0.0</td>\n",
       "      <td>0.0</td>\n",
       "      <td>0.0</td>\n",
       "      <td>...</td>\n",
       "      <td>0.0</td>\n",
       "      <td>184.230167</td>\n",
       "      <td>0.0</td>\n",
       "      <td>181.902155</td>\n",
       "      <td>0.961431</td>\n",
       "      <td>0.412368</td>\n",
       "      <td>12.952387</td>\n",
       "      <td>0.0</td>\n",
       "      <td>C</td>\n",
       "      <td>20.227076</td>\n",
       "    </tr>\n",
       "    <tr>\n",
       "      <th>3</th>\n",
       "      <td>4</td>\n",
       "      <td>0.0</td>\n",
       "      <td>0.0</td>\n",
       "      <td>0.000000</td>\n",
       "      <td>0.0</td>\n",
       "      <td>0.0</td>\n",
       "      <td>0.0</td>\n",
       "      <td>0.0</td>\n",
       "      <td>0.0</td>\n",
       "      <td>0.0</td>\n",
       "      <td>...</td>\n",
       "      <td>0.0</td>\n",
       "      <td>0.000000</td>\n",
       "      <td>0.0</td>\n",
       "      <td>197.748133</td>\n",
       "      <td>1.125438</td>\n",
       "      <td>0.533366</td>\n",
       "      <td>10.863085</td>\n",
       "      <td>0.0</td>\n",
       "      <td>B</td>\n",
       "      <td>38.798884</td>\n",
       "    </tr>\n",
       "    <tr>\n",
       "      <th>4</th>\n",
       "      <td>5</td>\n",
       "      <td>0.0</td>\n",
       "      <td>0.0</td>\n",
       "      <td>0.003537</td>\n",
       "      <td>0.0</td>\n",
       "      <td>0.0</td>\n",
       "      <td>0.0</td>\n",
       "      <td>0.0</td>\n",
       "      <td>0.0</td>\n",
       "      <td>0.0</td>\n",
       "      <td>...</td>\n",
       "      <td>0.0</td>\n",
       "      <td>176.839320</td>\n",
       "      <td>0.0</td>\n",
       "      <td>168.942908</td>\n",
       "      <td>0.981250</td>\n",
       "      <td>0.466690</td>\n",
       "      <td>11.472632</td>\n",
       "      <td>0.0</td>\n",
       "      <td>B</td>\n",
       "      <td>58.174574</td>\n",
       "    </tr>\n",
       "  </tbody>\n",
       "</table>\n",
       "<p>5 rows × 811 columns</p>\n",
       "</div>"
      ],
      "text/plain": [
       "   Unnamed: 0  ingredient_1  ingredient_2  ingredient_3  ingredient_4  \\\n",
       "0           1           0.0           0.0      0.009140           0.0   \n",
       "1           2           0.0           0.0           NaN           0.0   \n",
       "2           3           0.0           0.0      0.000000           0.0   \n",
       "3           4           0.0           0.0      0.000000           0.0   \n",
       "4           5           0.0           0.0      0.003537           0.0   \n",
       "\n",
       "   ingredient_5  ingredient_6  ingredient_7  ingredient_8  ingredient_9  ...  \\\n",
       "0           0.0           0.0           0.0           0.0           0.0  ...   \n",
       "1           0.0           0.0           0.0           0.0           0.0  ...   \n",
       "2           0.0           0.0           0.0           0.0           0.0  ...   \n",
       "3           0.0           0.0           0.0           0.0           0.0  ...   \n",
       "4           0.0           0.0           0.0           0.0           0.0  ...   \n",
       "\n",
       "   Group13_58  Group13_59  Group13_60  Group13_61  Group13_62  Group13_63  \\\n",
       "0         0.0    0.000000         0.0  177.331194    0.971717    0.430281   \n",
       "1         0.0   86.098721         0.0  184.539779    1.040365    0.477488   \n",
       "2         0.0  184.230167         0.0  181.902155    0.961431    0.412368   \n",
       "3         0.0    0.000000         0.0  197.748133    1.125438    0.533366   \n",
       "4         0.0  176.839320         0.0  168.942908    0.981250    0.466690   \n",
       "\n",
       "   Group13_64  Group13_65  LAB   Response  \n",
       "0   11.980651         0.0    A  60.062861  \n",
       "1   13.452968         0.0    B  19.350732  \n",
       "2   12.952387         0.0    C  20.227076  \n",
       "3   10.863085         0.0    B  38.798884  \n",
       "4   11.472632         0.0    B  58.174574  \n",
       "\n",
       "[5 rows x 811 columns]"
      ]
     },
     "execution_count": 118,
     "metadata": {},
     "output_type": "execute_result"
    }
   ],
   "source": [
    "raw.head()"
   ]
  },
  {
   "cell_type": "code",
   "execution_count": 119,
   "metadata": {},
   "outputs": [
    {
     "data": {
      "text/html": [
       "<div>\n",
       "<style scoped>\n",
       "    .dataframe tbody tr th:only-of-type {\n",
       "        vertical-align: middle;\n",
       "    }\n",
       "\n",
       "    .dataframe tbody tr th {\n",
       "        vertical-align: top;\n",
       "    }\n",
       "\n",
       "    .dataframe thead th {\n",
       "        text-align: right;\n",
       "    }\n",
       "</style>\n",
       "<table border=\"1\" class=\"dataframe\">\n",
       "  <thead>\n",
       "    <tr style=\"text-align: right;\">\n",
       "      <th></th>\n",
       "      <th>Unnamed: 0</th>\n",
       "      <th>ingredient_1</th>\n",
       "      <th>ingredient_2</th>\n",
       "      <th>ingredient_3</th>\n",
       "      <th>ingredient_4</th>\n",
       "      <th>ingredient_5</th>\n",
       "      <th>ingredient_6</th>\n",
       "      <th>ingredient_7</th>\n",
       "      <th>ingredient_8</th>\n",
       "      <th>ingredient_9</th>\n",
       "      <th>...</th>\n",
       "      <th>Group13_57</th>\n",
       "      <th>Group13_58</th>\n",
       "      <th>Group13_59</th>\n",
       "      <th>Group13_60</th>\n",
       "      <th>Group13_61</th>\n",
       "      <th>Group13_62</th>\n",
       "      <th>Group13_63</th>\n",
       "      <th>Group13_64</th>\n",
       "      <th>Group13_65</th>\n",
       "      <th>Response</th>\n",
       "    </tr>\n",
       "  </thead>\n",
       "  <tbody>\n",
       "    <tr>\n",
       "      <th>count</th>\n",
       "      <td>6360.000000</td>\n",
       "      <td>6360.000000</td>\n",
       "      <td>6360.000000</td>\n",
       "      <td>4420.000000</td>\n",
       "      <td>6359.000000</td>\n",
       "      <td>6354.000000</td>\n",
       "      <td>6358.000000</td>\n",
       "      <td>6355.000000</td>\n",
       "      <td>6359.000000</td>\n",
       "      <td>6360.000000</td>\n",
       "      <td>...</td>\n",
       "      <td>6360.000000</td>\n",
       "      <td>6360.000000</td>\n",
       "      <td>6360.000000</td>\n",
       "      <td>6360.000000</td>\n",
       "      <td>6360.000000</td>\n",
       "      <td>6360.000000</td>\n",
       "      <td>6360.000000</td>\n",
       "      <td>6360.000000</td>\n",
       "      <td>6360.000000</td>\n",
       "      <td>6360.000000</td>\n",
       "    </tr>\n",
       "    <tr>\n",
       "      <th>mean</th>\n",
       "      <td>3180.500000</td>\n",
       "      <td>0.001366</td>\n",
       "      <td>0.001741</td>\n",
       "      <td>0.007894</td>\n",
       "      <td>0.000502</td>\n",
       "      <td>0.000788</td>\n",
       "      <td>0.003949</td>\n",
       "      <td>0.001320</td>\n",
       "      <td>0.003386</td>\n",
       "      <td>0.000054</td>\n",
       "      <td>...</td>\n",
       "      <td>0.001576</td>\n",
       "      <td>0.000043</td>\n",
       "      <td>70.669029</td>\n",
       "      <td>0.003297</td>\n",
       "      <td>172.477451</td>\n",
       "      <td>0.997631</td>\n",
       "      <td>0.471405</td>\n",
       "      <td>10.815665</td>\n",
       "      <td>0.850843</td>\n",
       "      <td>38.657683</td>\n",
       "    </tr>\n",
       "    <tr>\n",
       "      <th>std</th>\n",
       "      <td>1836.118188</td>\n",
       "      <td>0.108920</td>\n",
       "      <td>0.044628</td>\n",
       "      <td>0.009345</td>\n",
       "      <td>0.013817</td>\n",
       "      <td>0.016883</td>\n",
       "      <td>0.088927</td>\n",
       "      <td>0.025589</td>\n",
       "      <td>0.080741</td>\n",
       "      <td>0.002789</td>\n",
       "      <td>...</td>\n",
       "      <td>0.021805</td>\n",
       "      <td>0.001122</td>\n",
       "      <td>77.979666</td>\n",
       "      <td>0.044472</td>\n",
       "      <td>24.239799</td>\n",
       "      <td>0.094840</td>\n",
       "      <td>0.082216</td>\n",
       "      <td>3.376337</td>\n",
       "      <td>7.635141</td>\n",
       "      <td>12.654940</td>\n",
       "    </tr>\n",
       "    <tr>\n",
       "      <th>min</th>\n",
       "      <td>1.000000</td>\n",
       "      <td>0.000000</td>\n",
       "      <td>0.000000</td>\n",
       "      <td>0.000000</td>\n",
       "      <td>0.000000</td>\n",
       "      <td>0.000000</td>\n",
       "      <td>0.000000</td>\n",
       "      <td>0.000000</td>\n",
       "      <td>0.000000</td>\n",
       "      <td>0.000000</td>\n",
       "      <td>...</td>\n",
       "      <td>0.000000</td>\n",
       "      <td>0.000000</td>\n",
       "      <td>0.000000</td>\n",
       "      <td>0.000000</td>\n",
       "      <td>0.000000</td>\n",
       "      <td>0.681269</td>\n",
       "      <td>0.289288</td>\n",
       "      <td>0.000000</td>\n",
       "      <td>0.000000</td>\n",
       "      <td>0.000000</td>\n",
       "    </tr>\n",
       "    <tr>\n",
       "      <th>25%</th>\n",
       "      <td>1590.750000</td>\n",
       "      <td>0.000000</td>\n",
       "      <td>0.000000</td>\n",
       "      <td>0.000000</td>\n",
       "      <td>0.000000</td>\n",
       "      <td>0.000000</td>\n",
       "      <td>0.000000</td>\n",
       "      <td>0.000000</td>\n",
       "      <td>0.000000</td>\n",
       "      <td>0.000000</td>\n",
       "      <td>...</td>\n",
       "      <td>0.000000</td>\n",
       "      <td>0.000000</td>\n",
       "      <td>0.000000</td>\n",
       "      <td>0.000000</td>\n",
       "      <td>170.534912</td>\n",
       "      <td>0.945808</td>\n",
       "      <td>0.422798</td>\n",
       "      <td>8.866556</td>\n",
       "      <td>0.000000</td>\n",
       "      <td>29.704819</td>\n",
       "    </tr>\n",
       "    <tr>\n",
       "      <th>50%</th>\n",
       "      <td>3180.500000</td>\n",
       "      <td>0.000000</td>\n",
       "      <td>0.000000</td>\n",
       "      <td>0.003494</td>\n",
       "      <td>0.000000</td>\n",
       "      <td>0.000000</td>\n",
       "      <td>0.000000</td>\n",
       "      <td>0.000000</td>\n",
       "      <td>0.000000</td>\n",
       "      <td>0.000000</td>\n",
       "      <td>...</td>\n",
       "      <td>0.000000</td>\n",
       "      <td>0.000000</td>\n",
       "      <td>37.265122</td>\n",
       "      <td>0.000000</td>\n",
       "      <td>175.445194</td>\n",
       "      <td>0.980674</td>\n",
       "      <td>0.449820</td>\n",
       "      <td>10.878518</td>\n",
       "      <td>0.000000</td>\n",
       "      <td>39.214501</td>\n",
       "    </tr>\n",
       "    <tr>\n",
       "      <th>75%</th>\n",
       "      <td>4770.250000</td>\n",
       "      <td>0.000000</td>\n",
       "      <td>0.000000</td>\n",
       "      <td>0.015044</td>\n",
       "      <td>0.000000</td>\n",
       "      <td>0.000000</td>\n",
       "      <td>0.000000</td>\n",
       "      <td>0.000000</td>\n",
       "      <td>0.000000</td>\n",
       "      <td>0.000000</td>\n",
       "      <td>...</td>\n",
       "      <td>0.000000</td>\n",
       "      <td>0.000000</td>\n",
       "      <td>158.987207</td>\n",
       "      <td>0.000000</td>\n",
       "      <td>182.080545</td>\n",
       "      <td>1.039523</td>\n",
       "      <td>0.499197</td>\n",
       "      <td>11.973781</td>\n",
       "      <td>0.000000</td>\n",
       "      <td>47.723999</td>\n",
       "    </tr>\n",
       "    <tr>\n",
       "      <th>max</th>\n",
       "      <td>6360.000000</td>\n",
       "      <td>8.686335</td>\n",
       "      <td>1.648436</td>\n",
       "      <td>0.050277</td>\n",
       "      <td>0.512569</td>\n",
       "      <td>0.491380</td>\n",
       "      <td>2.355276</td>\n",
       "      <td>0.731193</td>\n",
       "      <td>2.958337</td>\n",
       "      <td>0.157241</td>\n",
       "      <td>...</td>\n",
       "      <td>0.440788</td>\n",
       "      <td>0.042260</td>\n",
       "      <td>218.424630</td>\n",
       "      <td>0.853732</td>\n",
       "      <td>226.101243</td>\n",
       "      <td>1.582509</td>\n",
       "      <td>1.057504</td>\n",
       "      <td>27.429051</td>\n",
       "      <td>85.841716</td>\n",
       "      <td>100.000000</td>\n",
       "    </tr>\n",
       "  </tbody>\n",
       "</table>\n",
       "<p>8 rows × 810 columns</p>\n",
       "</div>"
      ],
      "text/plain": [
       "        Unnamed: 0  ingredient_1  ingredient_2  ingredient_3  ingredient_4  \\\n",
       "count  6360.000000   6360.000000   6360.000000   4420.000000   6359.000000   \n",
       "mean   3180.500000      0.001366      0.001741      0.007894      0.000502   \n",
       "std    1836.118188      0.108920      0.044628      0.009345      0.013817   \n",
       "min       1.000000      0.000000      0.000000      0.000000      0.000000   \n",
       "25%    1590.750000      0.000000      0.000000      0.000000      0.000000   \n",
       "50%    3180.500000      0.000000      0.000000      0.003494      0.000000   \n",
       "75%    4770.250000      0.000000      0.000000      0.015044      0.000000   \n",
       "max    6360.000000      8.686335      1.648436      0.050277      0.512569   \n",
       "\n",
       "       ingredient_5  ingredient_6  ingredient_7  ingredient_8  ingredient_9  \\\n",
       "count   6354.000000   6358.000000   6355.000000   6359.000000   6360.000000   \n",
       "mean       0.000788      0.003949      0.001320      0.003386      0.000054   \n",
       "std        0.016883      0.088927      0.025589      0.080741      0.002789   \n",
       "min        0.000000      0.000000      0.000000      0.000000      0.000000   \n",
       "25%        0.000000      0.000000      0.000000      0.000000      0.000000   \n",
       "50%        0.000000      0.000000      0.000000      0.000000      0.000000   \n",
       "75%        0.000000      0.000000      0.000000      0.000000      0.000000   \n",
       "max        0.491380      2.355276      0.731193      2.958337      0.157241   \n",
       "\n",
       "       ...   Group13_57   Group13_58   Group13_59   Group13_60   Group13_61  \\\n",
       "count  ...  6360.000000  6360.000000  6360.000000  6360.000000  6360.000000   \n",
       "mean   ...     0.001576     0.000043    70.669029     0.003297   172.477451   \n",
       "std    ...     0.021805     0.001122    77.979666     0.044472    24.239799   \n",
       "min    ...     0.000000     0.000000     0.000000     0.000000     0.000000   \n",
       "25%    ...     0.000000     0.000000     0.000000     0.000000   170.534912   \n",
       "50%    ...     0.000000     0.000000    37.265122     0.000000   175.445194   \n",
       "75%    ...     0.000000     0.000000   158.987207     0.000000   182.080545   \n",
       "max    ...     0.440788     0.042260   218.424630     0.853732   226.101243   \n",
       "\n",
       "        Group13_62   Group13_63   Group13_64   Group13_65     Response  \n",
       "count  6360.000000  6360.000000  6360.000000  6360.000000  6360.000000  \n",
       "mean      0.997631     0.471405    10.815665     0.850843    38.657683  \n",
       "std       0.094840     0.082216     3.376337     7.635141    12.654940  \n",
       "min       0.681269     0.289288     0.000000     0.000000     0.000000  \n",
       "25%       0.945808     0.422798     8.866556     0.000000    29.704819  \n",
       "50%       0.980674     0.449820    10.878518     0.000000    39.214501  \n",
       "75%       1.039523     0.499197    11.973781     0.000000    47.723999  \n",
       "max       1.582509     1.057504    27.429051    85.841716   100.000000  \n",
       "\n",
       "[8 rows x 810 columns]"
      ]
     },
     "execution_count": 119,
     "metadata": {},
     "output_type": "execute_result"
    }
   ],
   "source": [
    "raw.describe()"
   ]
  },
  {
   "cell_type": "code",
   "execution_count": 120,
   "metadata": {},
   "outputs": [
    {
     "data": {
      "text/plain": [
       "Unnamed: 0         0\n",
       "ingredient_1       0\n",
       "ingredient_2       0\n",
       "ingredient_3    1940\n",
       "ingredient_4       1\n",
       "                ... \n",
       "Group13_63         0\n",
       "Group13_64         0\n",
       "Group13_65         0\n",
       "LAB                0\n",
       "Response           0\n",
       "Length: 811, dtype: int64"
      ]
     },
     "execution_count": 120,
     "metadata": {},
     "output_type": "execute_result"
    }
   ],
   "source": [
    "raw.isnull().sum()"
   ]
  },
  {
   "cell_type": "code",
   "execution_count": 121,
   "metadata": {},
   "outputs": [
    {
     "data": {
      "text/plain": [
       "11694"
      ]
     },
     "execution_count": 121,
     "metadata": {},
     "output_type": "execute_result"
    }
   ],
   "source": [
    "raw.isnull().sum().sum()"
   ]
  },
  {
   "cell_type": "code",
   "execution_count": 122,
   "metadata": {},
   "outputs": [],
   "source": [
    "# blind replace with 0\n",
    "raw.fillna(0, inplace=True)"
   ]
  },
  {
   "cell_type": "code",
   "execution_count": 123,
   "metadata": {},
   "outputs": [
    {
     "data": {
      "text/plain": [
       "0"
      ]
     },
     "execution_count": 123,
     "metadata": {},
     "output_type": "execute_result"
    }
   ],
   "source": [
    "raw.isnull().sum().sum()"
   ]
  },
  {
   "cell_type": "code",
   "execution_count": 124,
   "metadata": {},
   "outputs": [],
   "source": [
    "raw.drop(columns=['Unnamed: 0'], inplace=True)"
   ]
  },
  {
   "cell_type": "code",
   "execution_count": 125,
   "metadata": {},
   "outputs": [
    {
     "data": {
      "text/html": [
       "<div>\n",
       "<style scoped>\n",
       "    .dataframe tbody tr th:only-of-type {\n",
       "        vertical-align: middle;\n",
       "    }\n",
       "\n",
       "    .dataframe tbody tr th {\n",
       "        vertical-align: top;\n",
       "    }\n",
       "\n",
       "    .dataframe thead th {\n",
       "        text-align: right;\n",
       "    }\n",
       "</style>\n",
       "<table border=\"1\" class=\"dataframe\">\n",
       "  <thead>\n",
       "    <tr style=\"text-align: right;\">\n",
       "      <th></th>\n",
       "      <th>ingredient_1</th>\n",
       "      <th>ingredient_2</th>\n",
       "      <th>ingredient_3</th>\n",
       "      <th>ingredient_4</th>\n",
       "      <th>ingredient_5</th>\n",
       "      <th>ingredient_6</th>\n",
       "      <th>ingredient_7</th>\n",
       "      <th>ingredient_8</th>\n",
       "      <th>ingredient_9</th>\n",
       "      <th>ingredient_10</th>\n",
       "      <th>...</th>\n",
       "      <th>Group13_57</th>\n",
       "      <th>Group13_58</th>\n",
       "      <th>Group13_59</th>\n",
       "      <th>Group13_60</th>\n",
       "      <th>Group13_61</th>\n",
       "      <th>Group13_62</th>\n",
       "      <th>Group13_63</th>\n",
       "      <th>Group13_64</th>\n",
       "      <th>Group13_65</th>\n",
       "      <th>Response</th>\n",
       "    </tr>\n",
       "  </thead>\n",
       "  <tbody>\n",
       "    <tr>\n",
       "      <th>count</th>\n",
       "      <td>6360.000000</td>\n",
       "      <td>6360.000000</td>\n",
       "      <td>6360.000000</td>\n",
       "      <td>6360.000000</td>\n",
       "      <td>6360.000000</td>\n",
       "      <td>6360.000000</td>\n",
       "      <td>6360.000000</td>\n",
       "      <td>6360.000000</td>\n",
       "      <td>6360.000000</td>\n",
       "      <td>6360.000000</td>\n",
       "      <td>...</td>\n",
       "      <td>6360.000000</td>\n",
       "      <td>6360.000000</td>\n",
       "      <td>6360.000000</td>\n",
       "      <td>6360.000000</td>\n",
       "      <td>6360.000000</td>\n",
       "      <td>6360.000000</td>\n",
       "      <td>6360.000000</td>\n",
       "      <td>6360.000000</td>\n",
       "      <td>6360.000000</td>\n",
       "      <td>6360.000000</td>\n",
       "    </tr>\n",
       "    <tr>\n",
       "      <th>mean</th>\n",
       "      <td>0.001366</td>\n",
       "      <td>0.001741</td>\n",
       "      <td>0.005486</td>\n",
       "      <td>0.000502</td>\n",
       "      <td>0.000787</td>\n",
       "      <td>0.003948</td>\n",
       "      <td>0.001319</td>\n",
       "      <td>0.003386</td>\n",
       "      <td>0.000054</td>\n",
       "      <td>0.000419</td>\n",
       "      <td>...</td>\n",
       "      <td>0.001576</td>\n",
       "      <td>0.000043</td>\n",
       "      <td>70.669029</td>\n",
       "      <td>0.003297</td>\n",
       "      <td>172.477451</td>\n",
       "      <td>0.997631</td>\n",
       "      <td>0.471405</td>\n",
       "      <td>10.815665</td>\n",
       "      <td>0.850843</td>\n",
       "      <td>38.657683</td>\n",
       "    </tr>\n",
       "    <tr>\n",
       "      <th>std</th>\n",
       "      <td>0.108920</td>\n",
       "      <td>0.044628</td>\n",
       "      <td>0.008597</td>\n",
       "      <td>0.013816</td>\n",
       "      <td>0.016875</td>\n",
       "      <td>0.088913</td>\n",
       "      <td>0.025579</td>\n",
       "      <td>0.080734</td>\n",
       "      <td>0.002789</td>\n",
       "      <td>0.015540</td>\n",
       "      <td>...</td>\n",
       "      <td>0.021805</td>\n",
       "      <td>0.001122</td>\n",
       "      <td>77.979666</td>\n",
       "      <td>0.044472</td>\n",
       "      <td>24.239799</td>\n",
       "      <td>0.094840</td>\n",
       "      <td>0.082216</td>\n",
       "      <td>3.376337</td>\n",
       "      <td>7.635141</td>\n",
       "      <td>12.654940</td>\n",
       "    </tr>\n",
       "    <tr>\n",
       "      <th>min</th>\n",
       "      <td>0.000000</td>\n",
       "      <td>0.000000</td>\n",
       "      <td>0.000000</td>\n",
       "      <td>0.000000</td>\n",
       "      <td>0.000000</td>\n",
       "      <td>0.000000</td>\n",
       "      <td>0.000000</td>\n",
       "      <td>0.000000</td>\n",
       "      <td>0.000000</td>\n",
       "      <td>0.000000</td>\n",
       "      <td>...</td>\n",
       "      <td>0.000000</td>\n",
       "      <td>0.000000</td>\n",
       "      <td>0.000000</td>\n",
       "      <td>0.000000</td>\n",
       "      <td>0.000000</td>\n",
       "      <td>0.681269</td>\n",
       "      <td>0.289288</td>\n",
       "      <td>0.000000</td>\n",
       "      <td>0.000000</td>\n",
       "      <td>0.000000</td>\n",
       "    </tr>\n",
       "    <tr>\n",
       "      <th>25%</th>\n",
       "      <td>0.000000</td>\n",
       "      <td>0.000000</td>\n",
       "      <td>0.000000</td>\n",
       "      <td>0.000000</td>\n",
       "      <td>0.000000</td>\n",
       "      <td>0.000000</td>\n",
       "      <td>0.000000</td>\n",
       "      <td>0.000000</td>\n",
       "      <td>0.000000</td>\n",
       "      <td>0.000000</td>\n",
       "      <td>...</td>\n",
       "      <td>0.000000</td>\n",
       "      <td>0.000000</td>\n",
       "      <td>0.000000</td>\n",
       "      <td>0.000000</td>\n",
       "      <td>170.534912</td>\n",
       "      <td>0.945808</td>\n",
       "      <td>0.422798</td>\n",
       "      <td>8.866556</td>\n",
       "      <td>0.000000</td>\n",
       "      <td>29.704819</td>\n",
       "    </tr>\n",
       "    <tr>\n",
       "      <th>50%</th>\n",
       "      <td>0.000000</td>\n",
       "      <td>0.000000</td>\n",
       "      <td>0.000000</td>\n",
       "      <td>0.000000</td>\n",
       "      <td>0.000000</td>\n",
       "      <td>0.000000</td>\n",
       "      <td>0.000000</td>\n",
       "      <td>0.000000</td>\n",
       "      <td>0.000000</td>\n",
       "      <td>0.000000</td>\n",
       "      <td>...</td>\n",
       "      <td>0.000000</td>\n",
       "      <td>0.000000</td>\n",
       "      <td>37.265122</td>\n",
       "      <td>0.000000</td>\n",
       "      <td>175.445194</td>\n",
       "      <td>0.980674</td>\n",
       "      <td>0.449820</td>\n",
       "      <td>10.878518</td>\n",
       "      <td>0.000000</td>\n",
       "      <td>39.214501</td>\n",
       "    </tr>\n",
       "    <tr>\n",
       "      <th>75%</th>\n",
       "      <td>0.000000</td>\n",
       "      <td>0.000000</td>\n",
       "      <td>0.009876</td>\n",
       "      <td>0.000000</td>\n",
       "      <td>0.000000</td>\n",
       "      <td>0.000000</td>\n",
       "      <td>0.000000</td>\n",
       "      <td>0.000000</td>\n",
       "      <td>0.000000</td>\n",
       "      <td>0.000000</td>\n",
       "      <td>...</td>\n",
       "      <td>0.000000</td>\n",
       "      <td>0.000000</td>\n",
       "      <td>158.987207</td>\n",
       "      <td>0.000000</td>\n",
       "      <td>182.080545</td>\n",
       "      <td>1.039523</td>\n",
       "      <td>0.499197</td>\n",
       "      <td>11.973781</td>\n",
       "      <td>0.000000</td>\n",
       "      <td>47.723999</td>\n",
       "    </tr>\n",
       "    <tr>\n",
       "      <th>max</th>\n",
       "      <td>8.686335</td>\n",
       "      <td>1.648436</td>\n",
       "      <td>0.050277</td>\n",
       "      <td>0.512569</td>\n",
       "      <td>0.491380</td>\n",
       "      <td>2.355276</td>\n",
       "      <td>0.731193</td>\n",
       "      <td>2.958337</td>\n",
       "      <td>0.157241</td>\n",
       "      <td>0.732679</td>\n",
       "      <td>...</td>\n",
       "      <td>0.440788</td>\n",
       "      <td>0.042260</td>\n",
       "      <td>218.424630</td>\n",
       "      <td>0.853732</td>\n",
       "      <td>226.101243</td>\n",
       "      <td>1.582509</td>\n",
       "      <td>1.057504</td>\n",
       "      <td>27.429051</td>\n",
       "      <td>85.841716</td>\n",
       "      <td>100.000000</td>\n",
       "    </tr>\n",
       "  </tbody>\n",
       "</table>\n",
       "<p>8 rows × 809 columns</p>\n",
       "</div>"
      ],
      "text/plain": [
       "       ingredient_1  ingredient_2  ingredient_3  ingredient_4  ingredient_5  \\\n",
       "count   6360.000000   6360.000000   6360.000000   6360.000000   6360.000000   \n",
       "mean       0.001366      0.001741      0.005486      0.000502      0.000787   \n",
       "std        0.108920      0.044628      0.008597      0.013816      0.016875   \n",
       "min        0.000000      0.000000      0.000000      0.000000      0.000000   \n",
       "25%        0.000000      0.000000      0.000000      0.000000      0.000000   \n",
       "50%        0.000000      0.000000      0.000000      0.000000      0.000000   \n",
       "75%        0.000000      0.000000      0.009876      0.000000      0.000000   \n",
       "max        8.686335      1.648436      0.050277      0.512569      0.491380   \n",
       "\n",
       "       ingredient_6  ingredient_7  ingredient_8  ingredient_9  ingredient_10  \\\n",
       "count   6360.000000   6360.000000   6360.000000   6360.000000    6360.000000   \n",
       "mean       0.003948      0.001319      0.003386      0.000054       0.000419   \n",
       "std        0.088913      0.025579      0.080734      0.002789       0.015540   \n",
       "min        0.000000      0.000000      0.000000      0.000000       0.000000   \n",
       "25%        0.000000      0.000000      0.000000      0.000000       0.000000   \n",
       "50%        0.000000      0.000000      0.000000      0.000000       0.000000   \n",
       "75%        0.000000      0.000000      0.000000      0.000000       0.000000   \n",
       "max        2.355276      0.731193      2.958337      0.157241       0.732679   \n",
       "\n",
       "       ...   Group13_57   Group13_58   Group13_59   Group13_60   Group13_61  \\\n",
       "count  ...  6360.000000  6360.000000  6360.000000  6360.000000  6360.000000   \n",
       "mean   ...     0.001576     0.000043    70.669029     0.003297   172.477451   \n",
       "std    ...     0.021805     0.001122    77.979666     0.044472    24.239799   \n",
       "min    ...     0.000000     0.000000     0.000000     0.000000     0.000000   \n",
       "25%    ...     0.000000     0.000000     0.000000     0.000000   170.534912   \n",
       "50%    ...     0.000000     0.000000    37.265122     0.000000   175.445194   \n",
       "75%    ...     0.000000     0.000000   158.987207     0.000000   182.080545   \n",
       "max    ...     0.440788     0.042260   218.424630     0.853732   226.101243   \n",
       "\n",
       "        Group13_62   Group13_63   Group13_64   Group13_65     Response  \n",
       "count  6360.000000  6360.000000  6360.000000  6360.000000  6360.000000  \n",
       "mean      0.997631     0.471405    10.815665     0.850843    38.657683  \n",
       "std       0.094840     0.082216     3.376337     7.635141    12.654940  \n",
       "min       0.681269     0.289288     0.000000     0.000000     0.000000  \n",
       "25%       0.945808     0.422798     8.866556     0.000000    29.704819  \n",
       "50%       0.980674     0.449820    10.878518     0.000000    39.214501  \n",
       "75%       1.039523     0.499197    11.973781     0.000000    47.723999  \n",
       "max       1.582509     1.057504    27.429051    85.841716   100.000000  \n",
       "\n",
       "[8 rows x 809 columns]"
      ]
     },
     "execution_count": 125,
     "metadata": {},
     "output_type": "execute_result"
    }
   ],
   "source": [
    "raw.describe()"
   ]
  },
  {
   "cell_type": "code",
   "execution_count": 126,
   "metadata": {},
   "outputs": [],
   "source": [
    "raw = raw.rename(columns={'Response': 'targetVar'})"
   ]
  },
  {
   "cell_type": "code",
   "execution_count": 127,
   "metadata": {},
   "outputs": [],
   "source": [
    "categorical_columns = ['LAB']\n",
    "raw[categorical_columns] = raw[categorical_columns].astype('category')"
   ]
  },
  {
   "cell_type": "code",
   "execution_count": 128,
   "metadata": {},
   "outputs": [],
   "source": [
    "# Use variable totCol to hold the number of columns in the dataframe\n",
    "totCol = len(raw.columns)\n",
    "\n",
    "# Set up variable totAttr for the total number of attribute columns\n",
    "totAttr = totCol-1\n",
    "\n",
    "# targetCol variable indicates the column location of the target/class variable\n",
    "# If the first column, set targetCol to 1. If the last column, set targetCol to totCol\n",
    "# If (targetCol <> 1) and (targetCol <> totCol), be aware when slicing up the dataframes for visualization\n",
    "targetCol = totCol"
   ]
  },
  {
   "cell_type": "code",
   "execution_count": 129,
   "metadata": {},
   "outputs": [
    {
     "name": "stdout",
     "output_type": "stream",
     "text": [
      "Total shape: (6360, 810) X shape: (6360, 809) y shape: (6360,)\n"
     ]
    }
   ],
   "source": [
    "if targetCol == totCol:\n",
    "    X_raw = raw.iloc[:,0:totAttr]\n",
    "    y_raw = raw.iloc[:,totAttr]\n",
    "else:\n",
    "    X_raw = raw.iloc[:,1:totCol]\n",
    "    y_raw = raw.iloc[:,0]\n",
    "\n",
    "print(\"Total shape: {} X shape: {} y shape: {}\".format(raw.shape, X_raw.shape, y_raw.shape))"
   ]
  },
  {
   "cell_type": "code",
   "execution_count": 130,
   "metadata": {},
   "outputs": [
    {
     "name": "stdout",
     "output_type": "stream",
     "text": [
      "<class 'pandas.core.frame.DataFrame'>\n",
      "RangeIndex: 6360 entries, 0 to 6359\n",
      "Columns: 811 entries, ingredient_1 to LAB_C\n",
      "dtypes: float64(808), uint8(3)\n",
      "memory usage: 39.2 MB\n",
      "None\n"
     ]
    }
   ],
   "source": [
    "X_raw = pd.get_dummies(X_raw)\n",
    "print(X_raw.info())"
   ]
  },
  {
   "cell_type": "markdown",
   "metadata": {},
   "source": [
    "# Splitting into test train and validation"
   ]
  },
  {
   "cell_type": "code",
   "execution_count": 131,
   "metadata": {},
   "outputs": [
    {
     "name": "stdout",
     "output_type": "stream",
     "text": [
      "X_train_df.shape: (4579, 811) y_train_df.shape: (4579,)\n",
      "X_validation_df.shape: (509, 811) y_validation_df.shape: (509,)\n",
      "X_test_df.shape: (1272, 811) y_test_df.shape: (1272,)\n"
     ]
    }
   ],
   "source": [
    "# Split the data further into training, validation, and test datasets\n",
    "test_size = 0.2\n",
    "test_size_validation = 0.1\n",
    "randomseed = 12345\n",
    "\n",
    "X_train_val, X_test_df, y_train_val, y_test_df = train_test_split(X_raw, y_raw, test_size=test_size, random_state=randomseed)\n",
    "X_train_df, X_validation_df, y_train_df, y_validation_df = train_test_split(X_train_val, y_train_val, test_size=test_size_validation, random_state=randomseed)\n",
    "print(\"X_train_df.shape: {} y_train_df.shape: {}\".format(X_train_df.shape, y_train_df.shape))\n",
    "print(\"X_validation_df.shape: {} y_validation_df.shape: {}\".format(X_validation_df.shape, y_validation_df.shape))\n",
    "print(\"X_test_df.shape: {} y_test_df.shape: {}\".format(X_test_df.shape, y_test_df.shape))"
   ]
  },
  {
   "cell_type": "code",
   "execution_count": 132,
   "metadata": {},
   "outputs": [
    {
     "name": "stderr",
     "output_type": "stream",
     "text": [
      "<ipython-input-132-e897c2b08841>:4: SettingWithCopyWarning: \n",
      "A value is trying to be set on a copy of a slice from a DataFrame.\n",
      "Try using .loc[row_indexer,col_indexer] = value instead\n",
      "\n",
      "See the caveats in the documentation: https://pandas.pydata.org/pandas-docs/stable/user_guide/indexing.html#returning-a-view-versus-a-copy\n",
      "  X_train_df[columns_to_scale] = scaler.fit_transform(X_train_df[columns_to_scale])\n",
      "C:\\Users\\Kiera\\anaconda3\\lib\\site-packages\\pandas\\core\\indexing.py:966: SettingWithCopyWarning: \n",
      "A value is trying to be set on a copy of a slice from a DataFrame.\n",
      "Try using .loc[row_indexer,col_indexer] = value instead\n",
      "\n",
      "See the caveats in the documentation: https://pandas.pydata.org/pandas-docs/stable/user_guide/indexing.html#returning-a-view-versus-a-copy\n",
      "  self.obj[item] = s\n",
      "C:\\Users\\Kiera\\anaconda3\\lib\\site-packages\\pandas\\core\\indexing.py:966: SettingWithCopyWarning: \n",
      "A value is trying to be set on a copy of a slice from a DataFrame.\n",
      "Try using .loc[row_indexer,col_indexer] = value instead\n",
      "\n",
      "See the caveats in the documentation: https://pandas.pydata.org/pandas-docs/stable/user_guide/indexing.html#returning-a-view-versus-a-copy\n",
      "  self.obj[item] = s\n",
      "C:\\Users\\Kiera\\anaconda3\\lib\\site-packages\\pandas\\core\\indexing.py:966: SettingWithCopyWarning: \n",
      "A value is trying to be set on a copy of a slice from a DataFrame.\n",
      "Try using .loc[row_indexer,col_indexer] = value instead\n",
      "\n",
      "See the caveats in the documentation: https://pandas.pydata.org/pandas-docs/stable/user_guide/indexing.html#returning-a-view-versus-a-copy\n",
      "  self.obj[item] = s\n"
     ]
    }
   ],
   "source": [
    "# scaling\n",
    "columns_to_scale = X_train_df.columns[X_train_df.dtypes == 'float64'].tolist()\n",
    "scaler = preprocessing.StandardScaler()\n",
    "X_train_df[columns_to_scale] = scaler.fit_transform(X_train_df[columns_to_scale])\n",
    "\n",
    "# do the same to the validation set\n",
    "scaled_features = scaler.transform(X_validation_df[columns_to_scale])\n",
    "X_validation_df.loc[:,tuple(columns_to_scale)] = scaled_features\n",
    "\n",
    "scaled_features = scaler.transform(X_test_df[columns_to_scale])\n",
    "X_test_df.loc[:,tuple(columns_to_scale)] = scaled_features"
   ]
  },
  {
   "cell_type": "code",
   "execution_count": 133,
   "metadata": {},
   "outputs": [
    {
     "data": {
      "text/html": [
       "<div>\n",
       "<style scoped>\n",
       "    .dataframe tbody tr th:only-of-type {\n",
       "        vertical-align: middle;\n",
       "    }\n",
       "\n",
       "    .dataframe tbody tr th {\n",
       "        vertical-align: top;\n",
       "    }\n",
       "\n",
       "    .dataframe thead th {\n",
       "        text-align: right;\n",
       "    }\n",
       "</style>\n",
       "<table border=\"1\" class=\"dataframe\">\n",
       "  <thead>\n",
       "    <tr style=\"text-align: right;\">\n",
       "      <th></th>\n",
       "      <th>ingredient_1</th>\n",
       "      <th>ingredient_2</th>\n",
       "      <th>ingredient_3</th>\n",
       "      <th>ingredient_4</th>\n",
       "      <th>ingredient_5</th>\n",
       "      <th>ingredient_6</th>\n",
       "      <th>ingredient_7</th>\n",
       "      <th>ingredient_8</th>\n",
       "      <th>ingredient_9</th>\n",
       "      <th>ingredient_10</th>\n",
       "      <th>...</th>\n",
       "      <th>Group13_59</th>\n",
       "      <th>Group13_60</th>\n",
       "      <th>Group13_61</th>\n",
       "      <th>Group13_62</th>\n",
       "      <th>Group13_63</th>\n",
       "      <th>Group13_64</th>\n",
       "      <th>Group13_65</th>\n",
       "      <th>LAB_A</th>\n",
       "      <th>LAB_B</th>\n",
       "      <th>LAB_C</th>\n",
       "    </tr>\n",
       "  </thead>\n",
       "  <tbody>\n",
       "    <tr>\n",
       "      <th>2820</th>\n",
       "      <td>0.0</td>\n",
       "      <td>-0.037115</td>\n",
       "      <td>0.712768</td>\n",
       "      <td>-0.040261</td>\n",
       "      <td>-0.042598</td>\n",
       "      <td>-0.049052</td>\n",
       "      <td>-0.047535</td>\n",
       "      <td>-0.043071</td>\n",
       "      <td>-0.020903</td>\n",
       "      <td>-0.024827</td>\n",
       "      <td>...</td>\n",
       "      <td>-0.345579</td>\n",
       "      <td>-0.070617</td>\n",
       "      <td>-0.045154</td>\n",
       "      <td>-0.057585</td>\n",
       "      <td>0.156290</td>\n",
       "      <td>-0.681774</td>\n",
       "      <td>-0.112395</td>\n",
       "      <td>0</td>\n",
       "      <td>1</td>\n",
       "      <td>0</td>\n",
       "    </tr>\n",
       "    <tr>\n",
       "      <th>5304</th>\n",
       "      <td>0.0</td>\n",
       "      <td>-0.037115</td>\n",
       "      <td>-0.473920</td>\n",
       "      <td>-0.040261</td>\n",
       "      <td>-0.042598</td>\n",
       "      <td>-0.049052</td>\n",
       "      <td>-0.047535</td>\n",
       "      <td>-0.043071</td>\n",
       "      <td>-0.020903</td>\n",
       "      <td>-0.024827</td>\n",
       "      <td>...</td>\n",
       "      <td>-0.897430</td>\n",
       "      <td>-0.070617</td>\n",
       "      <td>-0.040850</td>\n",
       "      <td>-0.634499</td>\n",
       "      <td>-0.688080</td>\n",
       "      <td>0.214289</td>\n",
       "      <td>-0.112395</td>\n",
       "      <td>0</td>\n",
       "      <td>1</td>\n",
       "      <td>0</td>\n",
       "    </tr>\n",
       "    <tr>\n",
       "      <th>1887</th>\n",
       "      <td>0.0</td>\n",
       "      <td>-0.037115</td>\n",
       "      <td>-0.639753</td>\n",
       "      <td>-0.040261</td>\n",
       "      <td>-0.042598</td>\n",
       "      <td>-0.049052</td>\n",
       "      <td>-0.047535</td>\n",
       "      <td>-0.043071</td>\n",
       "      <td>-0.020903</td>\n",
       "      <td>-0.024827</td>\n",
       "      <td>...</td>\n",
       "      <td>-0.330444</td>\n",
       "      <td>-0.070617</td>\n",
       "      <td>0.266605</td>\n",
       "      <td>0.158301</td>\n",
       "      <td>0.054966</td>\n",
       "      <td>-0.005877</td>\n",
       "      <td>-0.112395</td>\n",
       "      <td>1</td>\n",
       "      <td>0</td>\n",
       "      <td>0</td>\n",
       "    </tr>\n",
       "    <tr>\n",
       "      <th>4485</th>\n",
       "      <td>0.0</td>\n",
       "      <td>-0.037115</td>\n",
       "      <td>-0.639753</td>\n",
       "      <td>-0.040261</td>\n",
       "      <td>-0.042598</td>\n",
       "      <td>-0.049052</td>\n",
       "      <td>-0.047535</td>\n",
       "      <td>-0.043071</td>\n",
       "      <td>-0.020903</td>\n",
       "      <td>-0.024827</td>\n",
       "      <td>...</td>\n",
       "      <td>0.795570</td>\n",
       "      <td>-0.070617</td>\n",
       "      <td>0.089735</td>\n",
       "      <td>-0.054156</td>\n",
       "      <td>-0.206578</td>\n",
       "      <td>0.874604</td>\n",
       "      <td>-0.112395</td>\n",
       "      <td>0</td>\n",
       "      <td>1</td>\n",
       "      <td>0</td>\n",
       "    </tr>\n",
       "    <tr>\n",
       "      <th>964</th>\n",
       "      <td>0.0</td>\n",
       "      <td>-0.037115</td>\n",
       "      <td>-0.543481</td>\n",
       "      <td>-0.040261</td>\n",
       "      <td>-0.042598</td>\n",
       "      <td>-0.049052</td>\n",
       "      <td>-0.047535</td>\n",
       "      <td>-0.043071</td>\n",
       "      <td>-0.020903</td>\n",
       "      <td>-0.024827</td>\n",
       "      <td>...</td>\n",
       "      <td>-0.897430</td>\n",
       "      <td>-0.070617</td>\n",
       "      <td>-0.477494</td>\n",
       "      <td>-1.813477</td>\n",
       "      <td>-1.475231</td>\n",
       "      <td>-0.249065</td>\n",
       "      <td>-0.112395</td>\n",
       "      <td>0</td>\n",
       "      <td>1</td>\n",
       "      <td>0</td>\n",
       "    </tr>\n",
       "  </tbody>\n",
       "</table>\n",
       "<p>5 rows × 811 columns</p>\n",
       "</div>"
      ],
      "text/plain": [
       "      ingredient_1  ingredient_2  ingredient_3  ingredient_4  ingredient_5  \\\n",
       "2820           0.0     -0.037115      0.712768     -0.040261     -0.042598   \n",
       "5304           0.0     -0.037115     -0.473920     -0.040261     -0.042598   \n",
       "1887           0.0     -0.037115     -0.639753     -0.040261     -0.042598   \n",
       "4485           0.0     -0.037115     -0.639753     -0.040261     -0.042598   \n",
       "964            0.0     -0.037115     -0.543481     -0.040261     -0.042598   \n",
       "\n",
       "      ingredient_6  ingredient_7  ingredient_8  ingredient_9  ingredient_10  \\\n",
       "2820     -0.049052     -0.047535     -0.043071     -0.020903      -0.024827   \n",
       "5304     -0.049052     -0.047535     -0.043071     -0.020903      -0.024827   \n",
       "1887     -0.049052     -0.047535     -0.043071     -0.020903      -0.024827   \n",
       "4485     -0.049052     -0.047535     -0.043071     -0.020903      -0.024827   \n",
       "964      -0.049052     -0.047535     -0.043071     -0.020903      -0.024827   \n",
       "\n",
       "      ...  Group13_59  Group13_60  Group13_61  Group13_62  Group13_63  \\\n",
       "2820  ...   -0.345579   -0.070617   -0.045154   -0.057585    0.156290   \n",
       "5304  ...   -0.897430   -0.070617   -0.040850   -0.634499   -0.688080   \n",
       "1887  ...   -0.330444   -0.070617    0.266605    0.158301    0.054966   \n",
       "4485  ...    0.795570   -0.070617    0.089735   -0.054156   -0.206578   \n",
       "964   ...   -0.897430   -0.070617   -0.477494   -1.813477   -1.475231   \n",
       "\n",
       "      Group13_64  Group13_65  LAB_A  LAB_B  LAB_C  \n",
       "2820   -0.681774   -0.112395      0      1      0  \n",
       "5304    0.214289   -0.112395      0      1      0  \n",
       "1887   -0.005877   -0.112395      1      0      0  \n",
       "4485    0.874604   -0.112395      0      1      0  \n",
       "964    -0.249065   -0.112395      0      1      0  \n",
       "\n",
       "[5 rows x 811 columns]"
      ]
     },
     "execution_count": 133,
     "metadata": {},
     "output_type": "execute_result"
    }
   ],
   "source": [
    "X_train_df.head()"
   ]
  },
  {
   "cell_type": "markdown",
   "metadata": {},
   "source": [
    "## Attribute Importance Ranking"
   ]
  },
  {
   "cell_type": "code",
   "execution_count": 134,
   "metadata": {},
   "outputs": [
    {
     "name": "stdout",
     "output_type": "stream",
     "text": [
      "          attribute  importance\n",
      "486       Group1_11    0.569850\n",
      "526       Group2_20    0.073504\n",
      "745       Group13_3    0.043404\n",
      "509        Group2_3    0.038112\n",
      "484        Group1_9    0.034432\n",
      "..              ...         ...\n",
      "297  ingredient_298    0.000000\n",
      "298  ingredient_299    0.000000\n",
      "299  ingredient_300    0.000000\n",
      "300  ingredient_301    0.000000\n",
      "405  ingredient_406    0.000000\n",
      "\n",
      "[811 rows x 2 columns]\n"
     ]
    }
   ],
   "source": [
    "# Feature Importance with Gradient Boosting Regressor\n",
    "X_impVal = X_train_df.values\n",
    "y_impVal = y_train_df.values.ravel()\n",
    "model = GradientBoostingRegressor()\n",
    "model.fit(X_impVal, y_impVal)\n",
    "importanceScore = model.feature_importances_\n",
    "attributeList = X_train_df.columns.tolist()\n",
    "attributeImportance = pd.DataFrame({'attribute': attributeList, 'importance': importanceScore})\n",
    "rankedAttributes = attributeImportance.sort_values('importance', ascending=False)\n",
    "print(rankedAttributes)"
   ]
  },
  {
   "cell_type": "code",
   "execution_count": 135,
   "metadata": {},
   "outputs": [
    {
     "data": {
      "text/plain": [
       "<BarContainer object of 811 artists>"
      ]
     },
     "execution_count": 135,
     "metadata": {},
     "output_type": "execute_result"
    },
    {
     "data": {
      "image/png": "[encoded data removed]",
      "text/plain": [
       "<Figure size 432x288 with 1 Axes>"
      ]
     },
     "metadata": {
      "needs_background": "light"
     },
     "output_type": "display_data"
    }
   ],
   "source": [
    "plt.bar([i for i in range(len(importanceScore))], importanceScore)"
   ]
  },
  {
   "cell_type": "code",
   "execution_count": 136,
   "metadata": {},
   "outputs": [
    {
     "name": "stdout",
     "output_type": "stream",
     "text": [
      "Number of attributes contributed to the importance threshold:98\n",
      "Number of attributes found to be of low importance: 711\n",
      "['Group13_44', 'ingredient_297', 'Group2_14', 'ingredient_305', 'Group2_6', 'Group9_50', 'ingredient_13', 'Group10_5', 'ingredient_350', 'Group10_7', 'Group13_13', 'ingredient_283', 'Group9_49', 'ingredient_50', 'ingredient_197', 'Group2_44', 'Group8_14', 'Group13_48', 'ingredient_79', 'ingredient_256', 'ingredient_268', 'Group2_45', 'Group3_3', 'Group13_38', 'Group8_18', 'Group2_4', 'Group2_25', 'Group9_57', 'ingredient_466', 'Group10_4', 'Group13_39', 'ingredient_11', 'Group11_5', 'Group8_7', 'ingredient_329', 'Group9_37', 'Group1_19', 'Group9_24', 'Group8_8', 'ingredient_20', 'ingredient_460', 'Group9_52', 'ingredient_86', 'Group13_18', 'Group9_61', 'ingredient_6', 'Group3_9', 'ingredient_351', 'Group8_19', 'ingredient_471', 'ingredient_277', 'ingredient_446', 'Group9_7', 'ingredient_55', 'ingredient_120', 'Group8_9', 'ingredient_464', 'ingredient_360', 'ingredient_247', 'ingredient_363', 'Group10_16', 'ingredient_139', 'ingredient_288', 'Group3_8', 'Group9_51', 'Group1_20', 'ingredient_198', 'ingredient_31', 'Group13_28', 'Group8_20', 'ingredient_291', 'ingredient_111', 'Group10_3', 'Group13_36', 'Group11_2', 'Group8_10', 'Group2_5', 'Group10_6', 'Group13_42', 'Group13_15', 'ingredient_77', 'Group12_4', 'Group13_27', 'Group10_1', 'Group13_11', 'Group2_28', 'Group12_5', 'Group3_4', 'Group9_29', 'Group13_21', 'Group9_58', 'Group9_53', 'Group9_28', 'Group9_32', 'Group2_43', 'ingredient_444', 'Group2_42', 'Group2_36', 'Group2_41', 'Group2_35', 'Group2_37', 'ingredient_445', 'Group2_38', 'Group2_39', 'Group2_49', 'ingredient_443', 'ingredient_437', 'Group3_13', 'Group3_12', 'Group3_11', 'Group3_10', 'ingredient_433', 'ingredient_434', 'Group3_7', 'ingredient_435', 'ingredient_436', 'ingredient_438', 'ingredient_442', 'ingredient_439', 'Group3_2', 'ingredient_440', 'ingredient_441', 'Group3_1', 'ingredient_447', 'Group2_48', 'Group2_47', 'Group2_46', 'Group2_33', 'Group1_12', 'Group2_31', 'Group1_26', 'ingredient_472', 'ingredient_473', 'ingredient_474', 'ingredient_475', 'ingredient_476', 'Group1_1', 'Group1_3', 'Group1_4', 'Group1_28', 'Group1_27', 'Group1_25', 'Group2_30', 'Group1_24', 'Group1_5', 'Group1_23', 'Group1_22', 'Group1_21', 'Group1_18', 'Group1_17', 'Group1_16', 'Group3_14', 'Group1_14', 'ingredient_468', 'Group2_7', 'ingredient_467', 'Group2_8', 'Group2_29', 'Group2_27', 'ingredient_448', 'Group2_24', 'ingredient_449', 'Group2_21', 'Group1_10', 'ingredient_451', 'Group2_17', 'Group2_16', 'ingredient_452', 'ingredient_453', 'ingredient_454', 'ingredient_455', 'ingredient_456', 'ingredient_457', 'ingredient_459', 'ingredient_461', 'ingredient_462', 'ingredient_463', 'ingredient_465', 'ingredient_450', 'Group7_17', 'Group3_15', 'Group9_59', 'Group9_44', 'Group9_45', 'Group9_46', 'Group9_47', 'Group9_54', 'Group9_55', 'Group9_56', 'Group9_60', 'Group3_16', 'Group9_62', 'Group9_63', 'Group9_64', 'Group9_65', 'Group9_66', 'Group9_67', 'Group9_68', 'Group9_43', 'Group9_42', 'Group9_41', 'Group9_40', 'Group9_20', 'Group9_21', 'Group9_22', 'Group9_23', 'Group9_25', 'Group9_26', 'Group9_27', 'Group9_30', 'Group9_31', 'Group9_33', 'Group9_34', 'Group9_35', 'Group9_36', 'Group9_38', 'Group9_39', 'Group9_69', 'Group9_70', 'Group9_71', 'Group13_10', 'Group13_22', 'Group13_23', 'Group13_25', 'Group13_30', 'Group13_33', 'Group13_35', 'Group13_37', 'Group13_47', 'Group13_56', 'Group13_57', 'Group13_58', 'Group13_60', 'Group13_64', 'Group13_65', 'LAB_B', 'Group13_20', 'Group10_17', 'Group9_72', 'Group10_15', 'Group9_73', 'Group9_74', 'Group9_75', 'Group9_76', 'Group9_77', 'Group9_78', 'Group9_79', 'Group9_80', 'Group10_2', 'Group10_8', 'Group10_9', 'Group10_10', 'Group10_12', 'Group10_13', 'Group10_14', 'Group9_19', 'Group9_18', 'Group9_17', 'Group12_1', 'Group12_3', 'Group12_6', 'Group4_1', 'Group5_2', 'Group5_3', 'Group5_4', 'Group5_5', 'Group6_1', 'Group6_2', 'Group6_4', 'Group6_5', 'Group7_1', 'Group7_2', 'Group7_3', 'Group7_4', 'Group12_2', 'Group13_2', 'Group7_6', 'Group11_6', 'Group3_17', 'Group3_18', 'Group3_19', 'Group3_20', 'Group3_21', 'Group3_22', 'Group3_23', 'Group3_24', 'Group3_25', 'Group3_26', 'Group3_27', 'Group3_28', 'Group3_29', 'Group11_1', 'Group11_3', 'Group7_5', 'Group7_7', 'Group9_16', 'Group8_12', 'Group8_15', 'Group8_16', 'Group9_1', 'Group9_2', 'Group9_3', 'Group9_4', 'Group9_5', 'Group9_6', 'Group9_8', 'Group9_9', 'Group9_10', 'Group9_11', 'Group9_13', 'Group9_14', 'Group9_15', 'Group8_13', 'Group8_11', 'Group7_8', 'Group8_6', 'Group7_9', 'Group7_10', 'Group7_11', 'Group7_12', 'Group7_13', 'Group7_14', 'Group7_15', 'Group7_16', 'ingredient_431', 'Group7_18', 'Group8_1', 'Group8_2', 'Group8_3', 'Group8_4', 'Group8_5', 'ingredient_432', 'ingredient_1', 'ingredient_430', 'ingredient_157', 'ingredient_148', 'ingredient_149', 'ingredient_150', 'ingredient_151', 'ingredient_152', 'ingredient_153', 'ingredient_154', 'ingredient_155', 'ingredient_156', 'ingredient_158', 'ingredient_146', 'ingredient_159', 'ingredient_160', 'ingredient_161', 'ingredient_162', 'ingredient_163', 'ingredient_164', 'ingredient_165', 'ingredient_166', 'ingredient_167', 'ingredient_147', 'ingredient_145', 'ingredient_169', 'ingredient_131', 'ingredient_122', 'ingredient_123', 'ingredient_124', 'ingredient_125', 'ingredient_126', 'ingredient_127', 'ingredient_128', 'ingredient_129', 'ingredient_130', 'ingredient_132', 'ingredient_144', 'ingredient_133', 'ingredient_134', 'ingredient_135', 'ingredient_136', 'ingredient_138', 'ingredient_140', 'ingredient_141', 'ingredient_142', 'ingredient_143', 'ingredient_168', 'ingredient_170', 'ingredient_429', 'ingredient_209', 'ingredient_200', 'ingredient_201', 'ingredient_202', 'ingredient_203', 'ingredient_204', 'ingredient_205', 'ingredient_206', 'ingredient_207', 'ingredient_208', 'ingredient_210', 'ingredient_196', 'ingredient_211', 'ingredient_212', 'ingredient_213', 'ingredient_214', 'ingredient_215', 'ingredient_216', 'ingredient_217', 'ingredient_218', 'ingredient_219', 'ingredient_199', 'ingredient_195', 'ingredient_171', 'ingredient_181', 'ingredient_172', 'ingredient_173', 'ingredient_174', 'ingredient_175', 'ingredient_176', 'ingredient_177', 'ingredient_178', 'ingredient_179', 'ingredient_180', 'ingredient_182', 'ingredient_194', 'ingredient_183', 'ingredient_184', 'ingredient_185', 'ingredient_186', 'ingredient_187', 'ingredient_189', 'ingredient_190', 'ingredient_192', 'ingredient_193', 'ingredient_121', 'ingredient_119', 'ingredient_117', 'ingredient_45', 'ingredient_33', 'ingredient_34', 'ingredient_35', 'ingredient_37', 'ingredient_39', 'ingredient_40', 'ingredient_41', 'ingredient_42', 'ingredient_44', 'ingredient_46', 'ingredient_30', 'ingredient_47', 'ingredient_48', 'ingredient_49', 'ingredient_51', 'ingredient_52', 'ingredient_53', 'ingredient_54', 'ingredient_56', 'ingredient_57', 'ingredient_32', 'ingredient_29', 'ingredient_116', 'ingredient_16', 'ingredient_4', 'ingredient_5', 'ingredient_7', 'ingredient_8', 'ingredient_9', 'ingredient_10', 'ingredient_12', 'ingredient_14', 'ingredient_15', 'ingredient_17', 'ingredient_28', 'ingredient_18', 'ingredient_19', 'ingredient_21', 'ingredient_22', 'ingredient_23', 'ingredient_24', 'ingredient_25', 'ingredient_26', 'ingredient_27', 'ingredient_58', 'ingredient_59', 'ingredient_60', 'ingredient_102', 'ingredient_93', 'ingredient_94', 'ingredient_95', 'ingredient_96', 'ingredient_97', 'ingredient_98', 'ingredient_99', 'ingredient_100', 'ingredient_101', 'ingredient_103', 'ingredient_61', 'ingredient_104', 'ingredient_105', 'ingredient_106', 'ingredient_107', 'ingredient_108', 'ingredient_110', 'ingredient_112', 'ingredient_114', 'ingredient_115', 'ingredient_92', 'ingredient_90', 'ingredient_87', 'ingredient_85', 'ingredient_62', 'ingredient_63', 'ingredient_64', 'ingredient_65', 'ingredient_66', 'ingredient_67', 'ingredient_68', 'ingredient_69', 'ingredient_70', 'ingredient_72', 'ingredient_73', 'ingredient_74', 'ingredient_75', 'ingredient_76', 'ingredient_80', 'ingredient_81', 'ingredient_82', 'ingredient_83', 'ingredient_84', 'ingredient_221', 'ingredient_222', 'ingredient_223', 'ingredient_370', 'ingredient_359', 'ingredient_361', 'ingredient_362', 'ingredient_364', 'ingredient_365', 'ingredient_366', 'ingredient_367', 'ingredient_368', 'ingredient_369', 'ingredient_371', 'ingredient_357', 'ingredient_372', 'ingredient_373', 'ingredient_374', 'ingredient_375', 'ingredient_376', 'ingredient_377', 'ingredient_378', 'ingredient_379', 'ingredient_380', 'ingredient_358', 'ingredient_356', 'ingredient_330', 'ingredient_342', 'ingredient_332', 'ingredient_333', 'ingredient_334', 'ingredient_335', 'ingredient_336', 'ingredient_337', 'ingredient_338', 'ingredient_339', 'ingredient_340', 'ingredient_343', 'ingredient_355', 'ingredient_344', 'ingredient_345', 'ingredient_346', 'ingredient_347', 'ingredient_348', 'ingredient_349', 'ingredient_352', 'ingredient_353', 'ingredient_354', 'ingredient_381', 'ingredient_382', 'ingredient_383', 'ingredient_418', 'ingredient_409', 'ingredient_410', 'ingredient_411', 'ingredient_412', 'ingredient_413', 'ingredient_414', 'ingredient_415', 'ingredient_416', 'ingredient_417', 'ingredient_419', 'ingredient_384', 'ingredient_420', 'ingredient_421', 'ingredient_422', 'ingredient_423', 'ingredient_424', 'ingredient_425', 'ingredient_426', 'ingredient_427', 'ingredient_428', 'ingredient_408', 'ingredient_407', 'ingredient_2', 'ingredient_405', 'ingredient_385', 'ingredient_387', 'ingredient_388', 'ingredient_389', 'ingredient_390', 'ingredient_391', 'ingredient_392', 'ingredient_393', 'ingredient_394', 'ingredient_395', 'ingredient_396', 'ingredient_397', 'ingredient_398', 'ingredient_399', 'ingredient_400', 'ingredient_401', 'ingredient_402', 'ingredient_403', 'ingredient_404', 'ingredient_331', 'ingredient_328', 'ingredient_224', 'ingredient_260', 'ingredient_250', 'ingredient_251', 'ingredient_252', 'ingredient_253', 'ingredient_254', 'ingredient_255', 'ingredient_257', 'ingredient_258', 'ingredient_259', 'ingredient_261', 'ingredient_248', 'ingredient_262', 'ingredient_263', 'ingredient_264', 'ingredient_265', 'ingredient_266', 'ingredient_267', 'ingredient_269', 'ingredient_270', 'ingredient_271', 'ingredient_249', 'ingredient_246', 'ingredient_327', 'ingredient_234', 'ingredient_225', 'ingredient_226', 'ingredient_227', 'ingredient_228', 'ingredient_229', 'ingredient_230', 'ingredient_231', 'ingredient_232', 'ingredient_233', 'ingredient_235', 'ingredient_245', 'ingredient_236', 'ingredient_237', 'ingredient_238', 'ingredient_239', 'ingredient_240', 'ingredient_241', 'ingredient_242', 'ingredient_243', 'ingredient_244', 'ingredient_272', 'ingredient_273', 'ingredient_274', 'ingredient_316', 'ingredient_307', 'ingredient_308', 'ingredient_309', 'ingredient_310', 'ingredient_311', 'ingredient_312', 'ingredient_313', 'ingredient_314', 'ingredient_315', 'ingredient_317', 'ingredient_275', 'ingredient_318', 'ingredient_319', 'ingredient_320', 'ingredient_321', 'ingredient_322', 'ingredient_323', 'ingredient_324', 'ingredient_325', 'ingredient_326', 'ingredient_306', 'ingredient_304', 'ingredient_303', 'ingredient_302', 'ingredient_276', 'ingredient_278', 'ingredient_279', 'ingredient_280', 'ingredient_281', 'ingredient_282', 'ingredient_284', 'ingredient_285', 'ingredient_286', 'ingredient_287', 'ingredient_290', 'ingredient_292', 'ingredient_293', 'ingredient_294', 'ingredient_296', 'ingredient_298', 'ingredient_299', 'ingredient_300']\n"
     ]
    }
   ],
   "source": [
    "# Set the importance threshold and calculate the list of attributes that don't contribute to the importance threshold\n",
    "importanceSum = sum(importanceScore)\n",
    "maxThreshold = 0.99\n",
    "i = 0\n",
    "accumWeight = 0\n",
    "exit_now = False\n",
    "while ((i < totAttr) and (not exit_now)) :\n",
    "    accumWeight = accumWeight + (rankedAttributes.iloc[i]['importance']/importanceSum)\n",
    "    if (accumWeight >= maxThreshold) :\n",
    "        exit_now = True\n",
    "    else :\n",
    "        i = i + 1\n",
    "print('Number of attributes contributed to the importance threshold:'+str(i))\n",
    "lowAttributes = rankedAttributes.iloc[(i):(totAttr),]['attribute'].tolist()\n",
    "print('Number of attributes found to be of low importance:',len(lowAttributes))\n",
    "print(lowAttributes)\n"
   ]
  },
  {
   "cell_type": "markdown",
   "metadata": {},
   "source": [
    "LAB C is deemed to be an important attribute"
   ]
  },
  {
   "cell_type": "code",
   "execution_count": 137,
   "metadata": {},
   "outputs": [
    {
     "name": "stderr",
     "output_type": "stream",
     "text": [
      "C:\\Users\\Kiera\\anaconda3\\lib\\site-packages\\pandas\\core\\frame.py:3990: SettingWithCopyWarning: \n",
      "A value is trying to be set on a copy of a slice from a DataFrame\n",
      "\n",
      "See the caveats in the documentation: https://pandas.pydata.org/pandas-docs/stable/user_guide/indexing.html#returning-a-view-versus-a-copy\n",
      "  return super().drop(\n"
     ]
    }
   ],
   "source": [
    "# Removing the unselected attributes from the training and validation dataframes\n",
    "X_train_df.drop(labels=lowAttributes, axis=1, inplace=True)\n",
    "X_test_df.drop(labels=lowAttributes, axis=1, inplace=True)\n",
    "X_validation_df.drop(labels=lowAttributes, axis=1, inplace=True)"
   ]
  },
  {
   "cell_type": "code",
   "execution_count": 138,
   "metadata": {},
   "outputs": [
    {
     "name": "stdout",
     "output_type": "stream",
     "text": [
      "X_train.shape: (4579, 100) y_train.shape: (4579,)\n",
      "X_validation.shape: (509, 100) y_validation.shape: (509,)\n"
     ]
    }
   ],
   "source": [
    "# Finalize the training and validation datasets for the modeling activities\n",
    "X_train = X_train_df.to_numpy()\n",
    "y_train = y_train_df.ravel()\n",
    "X_validation = X_validation_df.to_numpy()\n",
    "y_validation = y_validation_df.ravel()\n",
    "print(\"X_train.shape: {} y_train.shape: {}\".format(X_train.shape, y_train.shape))\n",
    "print(\"X_validation.shape: {} y_validation.shape: {}\".format(X_validation.shape, y_validation.shape))"
   ]
  },
  {
   "cell_type": "code",
   "execution_count": 139,
   "metadata": {},
   "outputs": [],
   "source": [
    "# save it as a file\n",
    "file_name = \"../data/lubrizol-AIR.h5\"\n",
    "X_train_df.to_hdf(file_name, key='X_train', mode='w', format='t')\n",
    "X_test_df.to_hdf(file_name, key='X_test', append=True, format='t')\n",
    "X_validation_df.to_hdf(file_name, key='X_validation', append=True, format='t')\n",
    "y_train_df.to_hdf(file_name, key='y_train', append=True, format='t')\n",
    "y_test_df.to_hdf(file_name, key='y_test', append=True, format='t')\n",
    "y_validation_df.to_hdf(file_name, key='y_validation', append=True, format='t')"
   ]
  },
  {
   "cell_type": "code",
   "execution_count": 140,
   "metadata": {},
   "outputs": [
    {
     "name": "stdout",
     "output_type": "stream",
     "text": [
      "X_test.shape: (1272, 100) y_test.shape: (1272,)\n"
     ]
    }
   ],
   "source": [
    "X_test = X_test_df.to_numpy()\n",
    "y_test = y_test_df.ravel()\n",
    "print(\"X_test.shape: {} y_test.shape: {}\".format(X_test.shape, y_test.shape))"
   ]
  },
  {
   "cell_type": "code",
   "execution_count": 141,
   "metadata": {},
   "outputs": [],
   "source": [
    "## Regression Modelling"
   ]
  },
  {
   "cell_type": "code",
   "execution_count": 142,
   "metadata": {},
   "outputs": [
    {
     "data": {
      "text/plain": [
       "TheilSenRegressor(max_subpopulation=10000, n_jobs=-1)"
      ]
     },
     "execution_count": 142,
     "metadata": {},
     "output_type": "execute_result"
    }
   ],
   "source": [
    "theil = linear_model.TheilSenRegressor(n_jobs=-1)\n",
    "\n",
    "theil.fit(X_train, y_train)"
   ]
  },
  {
   "cell_type": "code",
   "execution_count": 143,
   "metadata": {},
   "outputs": [
    {
     "data": {
      "text/plain": [
       "-1.2928575015362735"
      ]
     },
     "execution_count": 143,
     "metadata": {},
     "output_type": "execute_result"
    }
   ],
   "source": [
    "# score with training data\n",
    "theil.score(X_train, y_train)"
   ]
  },
  {
   "cell_type": "code",
   "execution_count": 144,
   "metadata": {},
   "outputs": [
    {
     "data": {
      "text/plain": [
       "-1.1194702685678797"
      ]
     },
     "execution_count": 144,
     "metadata": {},
     "output_type": "execute_result"
    }
   ],
   "source": [
    "# score with test data\n",
    "theil.score(X_test, y_test)"
   ]
  },
  {
   "cell_type": "code",
   "execution_count": 145,
   "metadata": {},
   "outputs": [
    {
     "name": "stdout",
     "output_type": "stream",
     "text": [
      "MAE: 9.205191166085784\n",
      "R^2: -1.1194702685678797\n"
     ]
    }
   ],
   "source": [
    "y_hat = theil.predict(X_test)\n",
    "\n",
    "# evaluate predictions\n",
    "mae = mean_absolute_error(y_test, y_hat)\n",
    "r2 = r2_score(y_test, y_hat)\n",
    "print('MAE: {0}'.format(mae))\n",
    "print('R^2: {0}'.format(r2))"
   ]
  },
  {
   "cell_type": "code",
   "execution_count": 146,
   "metadata": {},
   "outputs": [
    {
     "data": {
      "text/plain": [
       "[<matplotlib.lines.Line2D at 0x2458fe7c760>]"
      ]
     },
     "execution_count": 146,
     "metadata": {},
     "output_type": "execute_result"
    },
    {
     "data": {
      "image/png": "[encoded data removed]",
      "text/plain": [
       "<Figure size 432x288 with 1 Axes>"
      ]
     },
     "metadata": {
      "needs_background": "light"
     },
     "output_type": "display_data"
    }
   ],
   "source": [
    "# plot test predicted vs true\n",
    "plt.scatter(y_test, y_hat)\n",
    "xpoints = ypoints = plt.xlim()\n",
    "plt.plot(xpoints, ypoints, linestyle='--', color='k', lw=3, scalex=False, scaley=False)"
   ]
  },
  {
   "cell_type": "code",
   "execution_count": 147,
   "metadata": {},
   "outputs": [],
   "source": [
    "# a new method"
   ]
  },
  {
   "cell_type": "markdown",
   "metadata": {},
   "source": [
    "# Correlation Feature Selection\n",
    "Which features directly correlate to increase / decrease in response variable"
   ]
  },
  {
   "cell_type": "code",
   "execution_count": 148,
   "metadata": {},
   "outputs": [],
   "source": [
    "# correlation feature selection\n",
    "def select_correlation_features(X_train, y_train, X_test):\n",
    "    # configure to select all features\n",
    "    fs = SelectKBest(score_func=f_regression, k='all')\n",
    "    # learn relationship from training data\n",
    "    fs.fit(X_train, y_train)\n",
    "    # transform train input data\n",
    "    X_train_fs = fs.transform(X_train)\n",
    "    # transform test input data\n",
    "    X_test_fs = fs.transform(X_test)\n",
    "    return X_train_fs, X_test_fs, fs"
   ]
  },
  {
   "cell_type": "code",
   "execution_count": 149,
   "metadata": {},
   "outputs": [],
   "source": [
    "# feature selection\n",
    "X_train_fs, X_test_fs, fs = select_correlation_features(X_train, y_train, X_test)\n"
   ]
  },
  {
   "cell_type": "code",
   "execution_count": 150,
   "metadata": {},
   "outputs": [
    {
     "data": {
      "image/png": "[encoded data removed]",
      "text/plain": [
       "<Figure size 432x288 with 1 Axes>"
      ]
     },
     "metadata": {
      "needs_background": "light"
     },
     "output_type": "display_data"
    }
   ],
   "source": [
    "# plot the scores\n",
    "plt.bar([i for i in range(len(fs.scores_))], fs.scores_)\n",
    "plt.show()"
   ]
  },
  {
   "cell_type": "markdown",
   "metadata": {},
   "source": [
    "# Mutual Information Gain\n",
    "Measuring the reduction of uncertainty for one variable given a known value of the other variable"
   ]
  },
  {
   "cell_type": "code",
   "execution_count": 151,
   "metadata": {},
   "outputs": [],
   "source": [
    "# mutual info feature selection\n",
    "def select_mutual_features(X_train, y_train, X_test):\n",
    "    # configure to select all features\n",
    "    fs = SelectKBest(score_func=mutual_info_regression, k='all')\n",
    "    # learn relationship from training data\n",
    "    fs.fit(X_train, y_train)\n",
    "    # transform train input data\n",
    "    X_train_fs = fs.transform(X_train)\n",
    "    # transform test input data\n",
    "    X_test_fs = fs.transform(X_test)\n",
    "    return X_train_fs, X_test_fs, fs"
   ]
  },
  {
   "cell_type": "code",
   "execution_count": 152,
   "metadata": {},
   "outputs": [],
   "source": [
    "# feature selection\n",
    "X_train_fs, X_test_fs, fs = select_mutual_features(X_train, y_train, X_test)"
   ]
  },
  {
   "cell_type": "code",
   "execution_count": 153,
   "metadata": {},
   "outputs": [
    {
     "data": {
      "image/png": "[encoded data removed]",
      "text/plain": [
       "<Figure size 432x288 with 1 Axes>"
      ]
     },
     "metadata": {
      "needs_background": "light"
     },
     "output_type": "display_data"
    }
   ],
   "source": [
    "# plot the scores\n",
    "plt.bar([i for i in range(len(fs.scores_))], fs.scores_)\n",
    "plt.show()"
   ]
  },
  {
   "cell_type": "markdown",
   "metadata": {},
   "source": [
    "# New Models w/ Feature Selection"
   ]
  },
  {
   "cell_type": "code",
   "execution_count": null,
   "metadata": {},
   "outputs": [],
   "source": []
  },
  {
   "cell_type": "code",
   "execution_count": 154,
   "metadata": {},
   "outputs": [
    {
     "name": "stdout",
     "output_type": "stream",
     "text": [
      "MAE: 5.489443840321535\n",
      "MSE: 50.47322127984631\n",
      "R^2: 0.6646157609032867\n"
     ]
    },
    {
     "data": {
      "text/plain": [
       "[<matplotlib.lines.Line2D at 0x24586a44940>]"
      ]
     },
     "execution_count": 154,
     "metadata": {},
     "output_type": "execute_result"
    },
    {
     "data": {
      "image/png": "[encoded data removed]",
      "text/plain": [
       "<Figure size 432x288 with 1 Axes>"
      ]
     },
     "metadata": {
      "needs_background": "light"
     },
     "output_type": "display_data"
    }
   ],
   "source": [
    "# fit the model\n",
    "model = linear_model.LinearRegression()\n",
    "model.fit(X_train, y_train)\n",
    "# evaluate the model\n",
    "y_hat = model.predict(X_test)\n",
    "# evaluate predictions\n",
    "mae = mean_absolute_error(y_test, y_hat)\n",
    "mse = mean_squared_error(y_test, y_hat)\n",
    "r2 = r2_score(y_test, y_hat)\n",
    "print('MAE: {0}'.format(mae))\n",
    "print('MSE: {0}'.format(mse))\n",
    "print('R^2: {0}'.format(r2))\n",
    "#plot\n",
    "plt.scatter(y_test, y_hat)\n",
    "xpoints = ypoints = plt.xlim()\n",
    "plt.plot(xpoints, ypoints, linestyle='--', color='k', lw=3, scalex=False, scaley=False)"
   ]
  },
  {
   "cell_type": "code",
   "execution_count": 155,
   "metadata": {},
   "outputs": [
    {
     "name": "stdout",
     "output_type": "stream",
     "text": [
      "MAE: 5.489443840321535\n",
      "MSE: 50.47322127984631\n",
      "R^2: 0.6646157609032867\n"
     ]
    },
    {
     "data": {
      "text/plain": [
       "[<matplotlib.lines.Line2D at 0x24586a97eb0>]"
      ]
     },
     "execution_count": 155,
     "metadata": {},
     "output_type": "execute_result"
    },
    {
     "data": {
      "image/png": "[encoded data removed]",
      "text/plain": [
       "<Figure size 432x288 with 1 Axes>"
      ]
     },
     "metadata": {
      "needs_background": "light"
     },
     "output_type": "display_data"
    }
   ],
   "source": [
    "# fit the model\n",
    "model = linear_model.LinearRegression()\n",
    "model.fit(X_train_fs, y_train)\n",
    "# evaluate the model\n",
    "yhat = model.predict(X_test_fs)\n",
    "# evaluate predictions\n",
    "mae = mean_absolute_error(y_test, y_hat)\n",
    "mse = mean_squared_error(y_test, y_hat)\n",
    "r2 = r2_score(y_test, y_hat)\n",
    "print('MAE: {0}'.format(mae))\n",
    "print('MSE: {0}'.format(mse))\n",
    "print('R^2: {0}'.format(r2))\n",
    "#plot\n",
    "plt.scatter(y_test, y_hat)\n",
    "xpoints = ypoints = plt.xlim()\n",
    "plt.plot(xpoints, ypoints, linestyle='--', color='k', lw=3, scalex=False, scaley=False)"
   ]
  },
  {
   "cell_type": "code",
   "execution_count": 156,
   "metadata": {},
   "outputs": [
    {
     "name": "stdout",
     "output_type": "stream",
     "text": [
      "[42.78226362 45.46146776 43.82054982 ... 36.22225059 45.75712932\n",
      " 60.70052254]\n"
     ]
    }
   ],
   "source": [
    "print(y_hat)"
   ]
  },
  {
   "cell_type": "code",
   "execution_count": 157,
   "metadata": {},
   "outputs": [
    {
     "name": "stdout",
     "output_type": "stream",
     "text": [
      "MAE: 5.57948753460873\n",
      "MSE: 51.551217605360264\n",
      "R^2: 0.6574526956537557\n"
     ]
    },
    {
     "data": {
      "text/plain": [
       "[<matplotlib.lines.Line2D at 0x24586af95b0>]"
      ]
     },
     "execution_count": 157,
     "metadata": {},
     "output_type": "execute_result"
    },
    {
     "data": {
      "image/png": "[encoded data removed]",
      "text/plain": [
       "<Figure size 432x288 with 1 Axes>"
      ]
     },
     "metadata": {
      "needs_background": "light"
     },
     "output_type": "display_data"
    }
   ],
   "source": [
    "# fit the model\n",
    "model = linear_model.SGDRegressor()\n",
    "model.fit(X_train, y_train)\n",
    "# evaluate the model\n",
    "y_hat = model.predict(X_test)\n",
    "# evaluate predictions\n",
    "mae = mean_absolute_error(y_test, y_hat)\n",
    "mse = mean_squared_error(y_test, y_hat)\n",
    "r2 = r2_score(y_test, y_hat)\n",
    "print('MAE: {0}'.format(mae))\n",
    "print('MSE: {0}'.format(mse))\n",
    "print('R^2: {0}'.format(r2))\n",
    "#plot\n",
    "plt.scatter(y_test, y_hat)\n",
    "xpoints = ypoints = plt.xlim()\n",
    "plt.plot(xpoints, ypoints, linestyle='--', color='k', lw=3, scalex=False, scaley=False)"
   ]
  },
  {
   "cell_type": "code",
   "execution_count": 158,
   "metadata": {},
   "outputs": [
    {
     "name": "stdout",
     "output_type": "stream",
     "text": [
      "MAE: 5.555111644913605\n",
      "MSE: 51.04795997637707\n",
      "R^2: 0.6607967397366632\n"
     ]
    },
    {
     "data": {
      "text/plain": [
       "[<matplotlib.lines.Line2D at 0x24586b4db20>]"
      ]
     },
     "execution_count": 158,
     "metadata": {},
     "output_type": "execute_result"
    },
    {
     "data": {
      "image/png": "[encoded data removed]",
      "text/plain": [
       "<Figure size 432x288 with 1 Axes>"
      ]
     },
     "metadata": {
      "needs_background": "light"
     },
     "output_type": "display_data"
    }
   ],
   "source": [
    "# fit the model\n",
    "model = linear_model.SGDRegressor()\n",
    "model.fit(X_train_fs, y_train)\n",
    "# evaluate the model\n",
    "y_hat = model.predict(X_test_fs)\n",
    "# evaluate predictions\n",
    "mae = mean_absolute_error(y_test, y_hat)\n",
    "mse = mean_squared_error(y_test, y_hat)\n",
    "r2 = r2_score(y_test, y_hat)\n",
    "print('MAE: {0}'.format(mae))\n",
    "print('MSE: {0}'.format(mse))\n",
    "print('R^2: {0}'.format(r2))\n",
    "#plot\n",
    "plt.scatter(y_test, y_hat)\n",
    "xpoints = ypoints = plt.xlim()\n",
    "plt.plot(xpoints, ypoints, linestyle='--', color='k', lw=3, scalex=False, scaley=False)"
   ]
  },
  {
   "cell_type": "markdown",
   "metadata": {},
   "source": [
    "# Validator \n",
    "\n",
    "## Full Dataset"
   ]
  },
  {
   "cell_type": "code",
   "execution_count": 159,
   "metadata": {},
   "outputs": [
    {
     "name": "stdout",
     "output_type": "stream",
     "text": [
      "Fitting 5 folds for each of 5 candidates, totalling 25 fits\n"
     ]
    },
    {
     "name": "stderr",
     "output_type": "stream",
     "text": [
      "[Parallel(n_jobs=-1)]: Using backend LokyBackend with 8 concurrent workers.\n",
      "[Parallel(n_jobs=-1)]: Done  25 out of  25 | elapsed:   28.8s finished\n"
     ]
    },
    {
     "name": "stdout",
     "output_type": "stream",
     "text": [
      "Best: -5.467246 using {'n_estimators': 150}\n",
      "-5.782404 (0.125712) with: {'n_estimators': 10}\n",
      "-5.486630 (0.074652) with: {'n_estimators': 50}\n",
      "-5.471281 (0.107253) with: {'n_estimators': 100}\n",
      "-5.467246 (0.087051) with: {'n_estimators': 150}\n",
      "-5.469006 (0.077008) with: {'n_estimators': 200}\n"
     ]
    }
   ],
   "source": [
    "# Set up the comparison array\n",
    "tune_results = []\n",
    "\n",
    "tune_model = ExtraTreesRegressor(n_jobs=-1)\n",
    "\n",
    "paramGrid = dict(n_estimators=np.array([10, 50, 100, 150, 200]))\n",
    "\n",
    "kfold = KFold(n_splits=5, shuffle=True)\n",
    "grid1 = GridSearchCV(estimator=tune_model, param_grid=paramGrid, scoring=\"neg_mean_absolute_error\", cv=kfold, n_jobs=-1, verbose=1)\n",
    "\n",
    "grid_result = grid1.fit(X_train, y_train)\n",
    "\n",
    "print(\"Best: %f using %s\" % (grid_result.best_score_, grid_result.best_params_))\n",
    "tune_results.append(grid_result.cv_results_['mean_test_score'])\n",
    "means = grid_result.cv_results_['mean_test_score']\n",
    "stds = grid_result.cv_results_['std_test_score']\n",
    "params = grid_result.cv_results_['params']\n",
    "for mean, stdev, param in zip(means, stds, params):\n",
    "    print(\"%f (%f) with: %r\" % (mean, stdev, param))\n",
    "\n",
    "\n"
   ]
  },
  {
   "cell_type": "code",
   "execution_count": 160,
   "metadata": {
    "scrolled": true
   },
   "outputs": [
    {
     "name": "stdout",
     "output_type": "stream",
     "text": [
      "Captured the best parameter for Extra Trees: n_estimators = 150\n"
     ]
    }
   ],
   "source": [
    "best_paramKey = list(grid_result.best_params_.keys())[0]\n",
    "best_paramValue = list(grid_result.best_params_.values())[0]\n",
    "print(\"Captured the best parameter for Extra Trees:\", best_paramKey, '=', best_paramValue)"
   ]
  },
  {
   "cell_type": "code",
   "execution_count": 162,
   "metadata": {},
   "outputs": [
    {
     "name": "stdout",
     "output_type": "stream",
     "text": [
      "ExtraTreesRegressor(n_estimators=150, n_jobs=-1)\n",
      "Mean Absolute Error: 4.984256678671063\n",
      "Mean Squared Error: 44.23610374322856\n",
      "R^2 Score: 0.738876679780041\n"
     ]
    }
   ],
   "source": [
    "validation_model = ExtraTreesRegressor(n_estimators=best_paramValue, n_jobs=-1)\n",
    "validation_model.fit(X_train, y_train)\n",
    "print(validation_model)\n",
    "predictions = validation_model.predict(X_validation)\n",
    "print('Mean Absolute Error:', mean_absolute_error(y_validation, predictions))\n",
    "print(\"Mean Squared Error:\", mean_squared_error(y_validation, predictions))\n",
    "print('R^2 Score:', r2_score(y_validation, predictions))"
   ]
  },
  {
   "cell_type": "code",
   "execution_count": 167,
   "metadata": {},
   "outputs": [
    {
     "name": "stdout",
     "output_type": "stream",
     "text": [
      "X_complete.shape: (5088, 100) y_complete.shape: (5088,)\n",
      "ExtraTreesRegressor(n_estimators=150, n_jobs=-1)\n"
     ]
    }
   ],
   "source": [
    "# Combining the training and validation datasets to form the complete dataset that will be used for training the final model\n",
    "X_complete = np.vstack((X_train, X_validation))\n",
    "y_complete = np.concatenate((y_train, y_validation))\n",
    "print(\"X_complete.shape: {} y_complete.shape: {}\".format(X_complete.shape, y_complete.shape))\n",
    "test_model = validation_model.fit(X_complete, y_complete)\n",
    "print(test_model)"
   ]
  },
  {
   "cell_type": "code",
   "execution_count": 168,
   "metadata": {},
   "outputs": [
    {
     "name": "stdout",
     "output_type": "stream",
     "text": [
      "Mean Absolute Error: 5.17115905156264\n",
      "Mean Squared Error: 46.34416508403506\n",
      "R^2 Score: 0.6920524953796074\n"
     ]
    }
   ],
   "source": [
    "test_predictions = test_model.predict(X_test)\n",
    "print('Mean Absolute Error:', mean_absolute_error(y_test, test_predictions))\n",
    "print(\"Mean Squared Error:\", mean_squared_error(y_test, test_predictions))\n",
    "print('R^2 Score:', r2_score(y_test, test_predictions))"
   ]
  },
  {
   "cell_type": "code",
   "execution_count": 169,
   "metadata": {},
   "outputs": [],
   "source": [
    "## Feature Selected"
   ]
  },
  {
   "cell_type": "code",
   "execution_count": 170,
   "metadata": {},
   "outputs": [],
   "source": [
    "# mutual info feature selection\n",
    "def select_mutual_features_validation(X_train, y_train, X_test, X_validation):\n",
    "    # configure to select all features\n",
    "    fs = SelectKBest(score_func=mutual_info_regression, k='all')\n",
    "    # learn relationship from training data\n",
    "    fs.fit(X_train, y_train)\n",
    "    # transform train input data\n",
    "    X_train_fs = fs.transform(X_train)\n",
    "    # transform test input data\n",
    "    X_test_fs = fs.transform(X_test)\n",
    "    # transform validation input data\n",
    "    X_validation_fs = fs.transform(X_validation)\n",
    "    return X_train_fs, X_test_fs, X_validation_fs, fs"
   ]
  },
  {
   "cell_type": "code",
   "execution_count": 171,
   "metadata": {},
   "outputs": [],
   "source": [
    "# create feature selected versions\n",
    "X_train_fs, X_test_fs, X_validation_fs, fs = select_mutual_features_validation(X_train, y_train, X_test, X_validation)"
   ]
  },
  {
   "cell_type": "code",
   "execution_count": 172,
   "metadata": {},
   "outputs": [
    {
     "data": {
      "image/png": "[encoded data removed]",
      "text/plain": [
       "<Figure size 432x288 with 1 Axes>"
      ]
     },
     "metadata": {
      "needs_background": "light"
     },
     "output_type": "display_data"
    }
   ],
   "source": [
    "# plot the scores\n",
    "plt.bar([i for i in range(len(fs.scores_))], fs.scores_)\n",
    "plt.show()"
   ]
  },
  {
   "cell_type": "code",
   "execution_count": 173,
   "metadata": {
    "scrolled": true
   },
   "outputs": [
    {
     "name": "stdout",
     "output_type": "stream",
     "text": [
      "Fitting 5 folds for each of 5 candidates, totalling 25 fits\n"
     ]
    },
    {
     "name": "stderr",
     "output_type": "stream",
     "text": [
      "[Parallel(n_jobs=-1)]: Using backend LokyBackend with 8 concurrent workers.\n",
      "[Parallel(n_jobs=-1)]: Done  25 out of  25 | elapsed:   29.7s finished\n"
     ]
    },
    {
     "name": "stdout",
     "output_type": "stream",
     "text": [
      "Best: -5.463079 using {'n_estimators': 200}\n",
      "-5.662312 (0.161469) with: {'n_estimators': 10}\n",
      "-5.499572 (0.177203) with: {'n_estimators': 50}\n",
      "-5.486930 (0.184650) with: {'n_estimators': 100}\n",
      "-5.466842 (0.183736) with: {'n_estimators': 150}\n",
      "-5.463079 (0.198881) with: {'n_estimators': 200}\n"
     ]
    }
   ],
   "source": [
    "# Set up the comparison array\n",
    "tune_results = []\n",
    "\n",
    "tune_model = ExtraTreesRegressor(n_jobs=-1)\n",
    "\n",
    "paramGrid = dict(n_estimators=np.array([10, 50, 100, 150, 200]))\n",
    "\n",
    "kfold = KFold(n_splits=5, shuffle=True)\n",
    "grid1 = GridSearchCV(estimator=tune_model, param_grid=paramGrid, scoring=\"neg_mean_absolute_error\", cv=kfold, n_jobs=-1, verbose=1)\n",
    "\n",
    "grid_result = grid1.fit(X_train_fs, y_train)\n",
    "\n",
    "print(\"Best: %f using %s\" % (grid_result.best_score_, grid_result.best_params_))\n",
    "tune_results.append(grid_result.cv_results_['mean_test_score'])\n",
    "means = grid_result.cv_results_['mean_test_score']\n",
    "stds = grid_result.cv_results_['std_test_score']\n",
    "params = grid_result.cv_results_['params']\n",
    "for mean, stdev, param in zip(means, stds, params):\n",
    "    print(\"%f (%f) with: %r\" % (mean, stdev, param))\n"
   ]
  },
  {
   "cell_type": "code",
   "execution_count": 174,
   "metadata": {},
   "outputs": [
    {
     "name": "stdout",
     "output_type": "stream",
     "text": [
      "Captured the best parameter for Extra Trees: n_estimators = 200\n"
     ]
    }
   ],
   "source": [
    "best_paramKey = list(grid_result.best_params_.keys())[0]\n",
    "best_paramValue = list(grid_result.best_params_.values())[0]\n",
    "print(\"Captured the best parameter for Extra Trees:\", best_paramKey, '=', best_paramValue)"
   ]
  },
  {
   "cell_type": "code",
   "execution_count": 175,
   "metadata": {},
   "outputs": [
    {
     "name": "stdout",
     "output_type": "stream",
     "text": [
      "ExtraTreesRegressor(n_estimators=200, n_jobs=-1)\n",
      "Mean Absolute Error: 4.9887397633354675\n",
      "Mean Squared Error: 43.969310019104896\n",
      "R^2 Score: 0.7404515486577659\n"
     ]
    }
   ],
   "source": [
    "validation_model = ExtraTreesRegressor(n_estimators=best_paramValue, n_jobs=-1)\n",
    "validation_model.fit(X_train_fs, y_train)\n",
    "print(validation_model)\n",
    "predictions = validation_model.predict(X_validation_fs)\n",
    "print('Mean Absolute Error:', mean_absolute_error(y_validation, predictions))\n",
    "print(\"Mean Squared Error:\", mean_squared_error(y_validation, predictions))\n",
    "print('R^2 Score:', r2_score(y_validation, predictions))"
   ]
  },
  {
   "cell_type": "code",
   "execution_count": 177,
   "metadata": {},
   "outputs": [
    {
     "name": "stdout",
     "output_type": "stream",
     "text": [
      "Mean Absolute Error: 5.171159051562639\n",
      "Mean Squared Error: 46.34416508403506\n",
      "R^2 Score: 0.6920524953796074\n"
     ]
    }
   ],
   "source": [
    "test_predictions = test_model.predict(X_test_fs)\n",
    "print('Mean Absolute Error:', mean_absolute_error(y_test, test_predictions))\n",
    "print(\"Mean Squared Error:\", mean_squared_error(y_test, test_predictions))\n",
    "print('R^2 Score:', r2_score(y_test, test_predictions))"
   ]
  },
  {
   "cell_type": "code",
   "execution_count": null,
   "metadata": {},
   "outputs": [],
   "source": []
  }
 ],
 "metadata": {
  "kernelspec": {
   "display_name": "Python 3",
   "language": "python",
   "name": "python3"
  },
  "language_info": {
   "codemirror_mode": {
    "name": "ipython",
    "version": 3
   },
   "file_extension": ".py",
   "mimetype": "text/x-python",
   "name": "python",
   "nbconvert_exporter": "python",
   "pygments_lexer": "ipython3",
   "version": "3.8.3"
  }
 },
 "nbformat": 4,
 "nbformat_minor": 4
}
